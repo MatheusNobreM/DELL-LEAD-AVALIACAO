{
 "cells": [
  {
   "cell_type": "code",
   "execution_count": 23,
   "metadata": {},
   "outputs": [
    {
     "name": "stderr",
     "output_type": "stream",
     "text": [
      "[nltk_data] Downloading package stopwords to\n",
      "[nltk_data]     /home/matheus/nltk_data...\n",
      "[nltk_data]   Package stopwords is already up-to-date!\n"
     ]
    },
    {
     "data": {
      "text/plain": [
       "<module 'best_modelo' from '/home/matheus/Documents/Mentoria/Avaliação Final/scrip_train/best_modelo.py'>"
      ]
     },
     "execution_count": 23,
     "metadata": {},
     "output_type": "execute_result"
    }
   ],
   "source": [
    "import pandas as pd\n",
    "import numpy as np\n",
    "import re\n",
    "from sklearn.feature_extraction.text import CountVectorizer\n",
    "from sklearn.naive_bayes import MultinomialNB\n",
    "from sklearn.pipeline import Pipeline\n",
    "import joblib\n",
    "from sklearn.model_selection import RandomizedSearchCV\n",
    "from sklearn.metrics import accuracy_score, f1_score, confusion_matrix, ConfusionMatrixDisplay\n",
    "import importlib\n",
    "import funcoes\n",
    "importlib.reload(funcoes)\n",
    "import best_modelo\n",
    "from best_modelo import *\n",
    "import importlib\n",
    "importlib.reload(best_modelo)"
   ]
  },
  {
   "cell_type": "code",
   "execution_count": 24,
   "metadata": {},
   "outputs": [
    {
     "data": {
      "text/html": [
       "<div>\n",
       "<style scoped>\n",
       "    .dataframe tbody tr th:only-of-type {\n",
       "        vertical-align: middle;\n",
       "    }\n",
       "\n",
       "    .dataframe tbody tr th {\n",
       "        vertical-align: top;\n",
       "    }\n",
       "\n",
       "    .dataframe thead th {\n",
       "        text-align: right;\n",
       "    }\n",
       "</style>\n",
       "<table border=\"1\" class=\"dataframe\">\n",
       "  <thead>\n",
       "    <tr style=\"text-align: right;\">\n",
       "      <th></th>\n",
       "      <th>id</th>\n",
       "      <th>comment_text</th>\n",
       "      <th>Toxic</th>\n",
       "    </tr>\n",
       "  </thead>\n",
       "  <tbody>\n",
       "    <tr>\n",
       "      <th>0</th>\n",
       "      <td>00091c35fa9d0465</td>\n",
       "      <td>== Arabs are committing genocide in Iraq, but ...</td>\n",
       "      <td>Toxic</td>\n",
       "    </tr>\n",
       "    <tr>\n",
       "      <th>1</th>\n",
       "      <td>0013a435effa29bd</td>\n",
       "      <td>I'd never think I'd need to say it, but Wikipe...</td>\n",
       "      <td>Non-Toxic</td>\n",
       "    </tr>\n",
       "    <tr>\n",
       "      <th>2</th>\n",
       "      <td>001eff4007dbb65b</td>\n",
       "      <td>::No, he is an arrogant, self serving, immatur...</td>\n",
       "      <td>Toxic</td>\n",
       "    </tr>\n",
       "    <tr>\n",
       "      <th>3</th>\n",
       "      <td>008eb47c4684d190</td>\n",
       "      <td>\" \\n\\n So, on the tenth anniversary of 9/11, \"...</td>\n",
       "      <td>Toxic</td>\n",
       "    </tr>\n",
       "    <tr>\n",
       "      <th>4</th>\n",
       "      <td>00991697be5ed76a</td>\n",
       "      <td>Simple: You are stupid!</td>\n",
       "      <td>Toxic</td>\n",
       "    </tr>\n",
       "  </tbody>\n",
       "</table>\n",
       "</div>"
      ],
      "text/plain": [
       "                 id                                       comment_text  \\\n",
       "0  00091c35fa9d0465  == Arabs are committing genocide in Iraq, but ...   \n",
       "1  0013a435effa29bd  I'd never think I'd need to say it, but Wikipe...   \n",
       "2  001eff4007dbb65b  ::No, he is an arrogant, self serving, immatur...   \n",
       "3  008eb47c4684d190  \" \\n\\n So, on the tenth anniversary of 9/11, \"...   \n",
       "4  00991697be5ed76a                            Simple: You are stupid!   \n",
       "\n",
       "       Toxic  \n",
       "0      Toxic  \n",
       "1  Non-Toxic  \n",
       "2      Toxic  \n",
       "3      Toxic  \n",
       "4      Toxic  "
      ]
     },
     "execution_count": 24,
     "metadata": {},
     "output_type": "execute_result"
    }
   ],
   "source": [
    "df_train = pd.read_csv(\"train_binary_small.csv\")\n",
    "\n",
    "df_test = pd.read_csv(\"test_binary_small.csv\")\n",
    "df_test.head()"
   ]
  },
  {
   "cell_type": "code",
   "execution_count": 26,
   "metadata": {},
   "outputs": [],
   "source": [
    "link_and_users = funcoes.Link()\n",
    "stop = funcoes.Stopword()\n",
    "sub_re = funcoes.Sub_re()\n",
    "one_word = funcoes.One_carct()\n",
    "lem = funcoes.Lematization()\n",
    "stem = funcoes.Stemming()"
   ]
  },
  {
   "cell_type": "markdown",
   "metadata": {},
   "source": [
    "# Preparando o dataset de treino:"
   ]
  },
  {
   "cell_type": "code",
   "execution_count": 27,
   "metadata": {},
   "outputs": [],
   "source": [
    "df_train['Toxic'] = np.where(df_train['Toxic'] == 'Toxic', 1, 0)\n",
    "df_test['Toxic'] = np.where(df_test['Toxic'] == 'Toxic', 1, 0)\n",
    "df_train.drop(\"id\", axis=1, inplace=True)\n",
    "df_train.drop_duplicates([\"comment_text\"], inplace = True)\n",
    "df_train[\"limpeza_simples\"] = df_train['comment_text'].apply(lambda x: re.sub(r'\\W+',' ', x))\n",
    "df_train[\"limpeza_simples\"] = df_train[\"limpeza_simples\"].apply(lambda x: link_and_users.re_links_and_users(x))\n",
    "df_train[\"limpeza_simples\"] = df_train[\"limpeza_simples\"].str.lower()\n",
    "\n",
    "df_train_copy = df_train.copy()\n",
    "df_train_copy[\"limpeza_simples\"] = df_train_copy['limpeza_simples'].apply(lambda x: sub_re.sub_re(x))\n",
    "df_train_copy[\"limpeza_simples\"] = df_train_copy['limpeza_simples'].apply(lambda x: one_word.words_one(x))\n",
    "\n",
    "\n",
    "# Limpeza simples, stemming\n",
    "df_train_copy[\"limpeza_simples_stem\"] = df_train_copy['limpeza_simples'].apply(lambda x: stem.stemming(x))\n",
    "\n"
   ]
  },
  {
   "cell_type": "markdown",
   "metadata": {},
   "source": [
    "# Preparando o Dataset de test:"
   ]
  },
  {
   "cell_type": "code",
   "execution_count": 28,
   "metadata": {},
   "outputs": [],
   "source": [
    "df_test['Toxic'] = np.where(df_test['Toxic'] == 'Toxic', 1, 0)\n",
    "df_test.drop(\"id\", axis=1, inplace=True)\n",
    "df_test.drop_duplicates([\"comment_text\"], inplace = True)\n",
    "df_test[\"limpeza_simples\"] = df_test['comment_text'].apply(lambda x: re.sub(r'\\W+',' ', x))\n",
    "df_test[\"limpeza_simples\"] = df_test[\"limpeza_simples\"].apply(lambda x: link_and_users.re_links_and_users(x))\n",
    "df_test[\"limpeza_simples\"] = df_test[\"limpeza_simples\"].str.lower()\n",
    "\n",
    "df_test_copy = df_test.copy()\n",
    "\n",
    "df_test_copy[\"limpeza_simples\"] = df_test_copy['limpeza_simples'].apply(lambda x: sub_re.sub_re(x))\n",
    "df_test_copy[\"limpeza_simples\"] = df_test_copy['limpeza_simples'].apply(lambda x: one_word.words_one(x))\n",
    "\n",
    "# Limpeza simples, stemming\n",
    "df_test_copy[\"limpeza_simples_stem\"] = df_test_copy['limpeza_simples'].apply(lambda x: stem.stemming(x))\n"
   ]
  },
  {
   "cell_type": "code",
   "execution_count": 31,
   "metadata": {},
   "outputs": [],
   "source": [
    "list_preprocessing =[\n",
    "    'limpeza_simples',\n",
    "    'limpeza_simples_stem',\n",
    "    ]"
   ]
  },
  {
   "cell_type": "code",
   "execution_count": 32,
   "metadata": {},
   "outputs": [
    {
     "name": "stdout",
     "output_type": "stream",
     "text": [
      "[INFO] limpeza_simples__Naive_Bayes__BOW\n",
      "0.856\n",
      "[INFO] limpeza_simples_stem__Naive_Bayes__BOW\n",
      "0.8634999999999999\n"
     ]
    }
   ],
   "source": [
    "cv = 2\n",
    "all_scores = {}\n",
    "model_params = {}\n",
    "vectorizer_name = 'BOW'\n",
    "\n",
    "vectorizer = CountVectorizer()\n",
    "model = MultinomialNB()\n",
    "\n",
    "pipeline = Pipeline([(\"vect\", vectorizer), (\"clf\", model)])\n",
    "\n",
    "for param_name, parameters in VECTORIZERS_PARAMS.items():\n",
    "        new_name = 'vect__'+param_name\n",
    "        model_params[new_name] = parameters\n",
    "\n",
    "for step in list_preprocessing:\n",
    "    X_train = df_train_copy[step].values.astype('U')\n",
    "    y_train = df_train_copy['Toxic'].to_list()\n",
    "\n",
    "    X_test = df_test_copy[step].values.astype('U')\n",
    "    y_test = df_test_copy['Toxic'].to_list()\n",
    "\n",
    "    approach_name = (f\"{step}__{'Naive_Bayes'}__{vectorizer_name}\")\n",
    "    \n",
    "    rs = RandomizedSearchCV(\n",
    "            pipeline, model_params, random_state=42, cv=cv, n_jobs=2,)\n",
    "\n",
    "    rs.fit(X_train, y_train)\n",
    "    \n",
    "    print(f'[INFO] {approach_name}')\n",
    "    print(rs.best_score_)\n",
    "\n",
    "    dst_file = f'/home/matheus/Documents/Mentoria/Avaliação Final/scrip_train/list_params/{approach_name}.pkl'\n",
    "    joblib.dump(rs,dst_file)\n",
    "\n",
    "    y_pred = rs.predict(X_test)\n",
    "\n",
    "    scores = {\n",
    "        'accuracy':accuracy_score(y_test, y_pred),\n",
    "        'f1':f1_score(y_test, y_pred),\n",
    "        'confusion_matrix':confusion_matrix(y_test, y_pred),\n",
    "        'best_param':rs.best_params_,\n",
    "    }\n",
    "\n",
    "    all_scores.update({approach_name:{'scores':scores}})"
   ]
  },
  {
   "cell_type": "code",
   "execution_count": null,
   "metadata": {},
   "outputs": [],
   "source": []
  }
 ],
 "metadata": {
  "kernelspec": {
   "display_name": "Python 3.9.12 ('base')",
   "language": "python",
   "name": "python3"
  },
  "language_info": {
   "codemirror_mode": {
    "name": "ipython",
    "version": 3
   },
   "file_extension": ".py",
   "mimetype": "text/x-python",
   "name": "python",
   "nbconvert_exporter": "python",
   "pygments_lexer": "ipython3",
   "version": "3.9.12"
  },
  "orig_nbformat": 4,
  "vscode": {
   "interpreter": {
    "hash": "ad1f547ca6bde2efe7e9b59d2fcba9fd38de7525bea4d95dd49cfbf16810227f"
   }
  }
 },
 "nbformat": 4,
 "nbformat_minor": 2
}
